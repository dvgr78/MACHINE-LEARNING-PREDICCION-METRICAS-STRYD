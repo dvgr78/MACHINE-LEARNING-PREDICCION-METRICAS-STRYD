{
 "cells": [
  {
   "cell_type": "markdown",
   "metadata": {},
   "source": [
    "<h2><font color=\"#004D7F\" size=6>FASE: Tratamiento de Datos</font></h2>\n",
    "\n",
    "\n",
    "\n",
    "<h1><font color=\"#004D7F\" size=5>Evaluación de Métricas Estadísticas Stryd</font></h1>\n",
    "\n",
    "<br><br>\n",
    "<div style=\"text-align: left\">\n",
    "<font color=\"#004D7F\" size=3>David Víctor Gómez Ramírez</font><br>\n",
    "<font color=\"#004D7F\" size=3>Machine Learning con Python</font><br>"
   ]
  },
  {
   "cell_type": "markdown",
   "metadata": {},
   "source": [
    "---\n",
    "\n",
    "<h2><font color=\"#004D7F\" size=5>Índice</font></h2>\n",
    "<a id=\"indice\"></a>\n",
    "\n",
    "* [Introducción](#INTRODUCCION)\n",
    "    * [Librerías y CSV](#LIBRERIAS)\n",
    "* [Métricas de regresión](#METRICAS)\n",
    "    * [Error medio absoluto](#MAE)\n",
    "    * [Error cuadrático medio](#MSE)\n",
    "    * [$R^2$](#R2)"
   ]
  },
  {
   "cell_type": "markdown",
   "metadata": {},
   "source": [
    "---\n",
    "\n",
    "<a id=\"INTRODUCCION\"></a>\n",
    "# <font color=\"#004D7F\">Introducción</font>"
   ]
  },
  {
   "cell_type": "markdown",
   "metadata": {},
   "source": [
    "Las métricas que elige para evaluar sus algoritmos de Machine Learning son muy importantes. La elección de métricas influye en cómo se mide y compara el rendimiento de los algoritmos de Machine Learning. Influyen en cómo se valora la importancia de las diferentes características en los resultados y su elección final de qué algoritmo elegir. En esta sección veremos cómo seleccionar y utilizar diferentes métricas de rendimiento de Machine Learning en Python con scikit-learn.\n",
    "\n",
    "Todas las recetas evalúan los mismos algoritmos, LoR para clasificación y LiR para problemas de regresión. Se utiliza una prueba de validación cruzada 10-folds para demostrar cada métrica, porque este es el escenario más probable que utilizará al emplear diferentes métricas de evaluación de algoritmos. "
   ]
  },
  {
   "cell_type": "markdown",
   "metadata": {},
   "source": [
    "<a id=\"LIBRERIAS\"></a>\n",
    "## <font color=\"#004D7F\">Librerías y CSV</font>"
   ]
  },
  {
   "cell_type": "markdown",
   "metadata": {},
   "source": [
    "En esta lección, se muestran varias métricas de evaluación de algoritmos diferentes para problemas de Machine Learning de  **_Regresión_**. El conjunto de datos utilizado será nuestro archifamoso `\"SEGMENTOS_csv.csv\"`."
   ]
  },
  {
   "cell_type": "code",
   "execution_count": 42,
   "metadata": {},
   "outputs": [],
   "source": [
    "# Clasification problem\n",
    "# ******************************************************************************\n",
    "# ***************              LIBRERÍAS A IMPORTAR              ***************\n",
    "# ******************************************************************************\n",
    "import pandas                       as pd\n",
    "import matplotlib.pyplot            as plt\n",
    "import pandas                       as pd\n",
    "import numpy                        as np\n",
    "import seaborn                      as sns\n",
    "import matplotlib.pyplot as plt\n",
    "import seaborn as sns\n",
    "# ******************************************************************************\n",
    "# ***************           CARGAMOS NUESTRO DATAFRAME           ***************\n",
    "# ******************************************************************************\n",
    "# Cargamos los datos contenidos en \"SEGMENTOS_csv.csv\"\n",
    "data = pd.read_csv('SEGMENTOS_csv.csv')\n",
    "# Completamos los datos nulos con la media de cada uno\n",
    "data['DESNIVEL']        = data['DESNIVEL'].fillna(data['DESNIVEL'].median())\n",
    "\n",
    "#obtenemos el nombre de las  clases\n",
    "nombre_clases = data.columns.values\n",
    "nombre_clases\n",
    "\n",
    "array_clas = data.values\n",
    "X = array_clas[:,0:18]\n",
    "Y = array_clas[:,19]"
   ]
  },
  {
   "cell_type": "markdown",
   "metadata": {},
   "source": [
    "<div style=\"text-align: right\"> <font size=5>\n",
    "    <a href=\"#indice\"><i class=\"fa fa-arrow-circle-up\" aria-hidden=\"true\" style=\"color:#004D7F\"></i></a>\n",
    "</font></div>\n",
    "\n",
    "---"
   ]
  },
  {
   "cell_type": "markdown",
   "metadata": {
    "ExecuteTime": {
     "end_time": "2018-11-27T18:35:24.164369Z",
     "start_time": "2018-11-27T18:35:24.138865Z"
    }
   },
   "source": [
    "<a id=\"METRICAS\"></a>\n",
    "# <font color=\"#004D7F\">Métricas de Regresión</font>"
   ]
  },
  {
   "cell_type": "markdown",
   "metadata": {},
   "source": [
    "En esta sección revisaremos 3 de las métricas más comunes para evaluar predicciones sobre problemas de regresión de Machine Learning:\n",
    "* Error absoluto medio.\n",
    "* Error cuadrático medio.\n",
    "* $R^2$"
   ]
  },
  {
   "cell_type": "markdown",
   "metadata": {
    "ExecuteTime": {
     "end_time": "2018-11-27T18:35:24.164369Z",
     "start_time": "2018-11-27T18:35:24.138865Z"
    }
   },
   "source": [
    "<a id=\"MAE\"></a>\n",
    "## <font color=\"#004D7F\">Error medio absoluto (MAE)</font>"
   ]
  },
  {
   "cell_type": "markdown",
   "metadata": {},
   "source": [
    "El error absoluto medio _(MAE)_ es la suma de las diferencias absolutas entre las predicciones y los valores reales. Da una idea de cuán erróneas fueron las predicciones. La medida da una idea de la magnitud del error, pero no tiene idea de la dirección (por ejemplo, sobre o por debajo de la predicción). \n",
    "\n",
    "Un valor de 0 indica que no hay error o predicciones perfectas. Al igual que _logloss_, esta métrica se invierte por la función `cros_val_score`."
   ]
  },
  {
   "cell_type": "code",
   "execution_count": 45,
   "metadata": {},
   "outputs": [
    {
     "name": "stdout",
     "output_type": "stream",
     "text": [
      "ERROR ABSOLUTO MEDIO (MAE):   20.76607\n"
     ]
    }
   ],
   "source": [
    "# Cross Validation Regression MAE con validación cruzada con división por porcentajes\n",
    "from sklearn.model_selection import train_test_split\n",
    "from sklearn.metrics import mean_absolute_error\n",
    "from sklearn.linear_model import LinearRegression\n",
    "\n",
    "test_size = 0.33\n",
    "seed = 7\n",
    "\n",
    "X_train, X_test, Y_train, Y_test = train_test_split (X, Y, test_size = test_size, random_state = seed)\n",
    "\n",
    "model =LinearRegression()\n",
    "model.fit(X_train, Y_train)\n",
    "\n",
    "predicted = model.predict(X_test)\n",
    "\n",
    "mae = mean_absolute_error(Y_test, predicted)\n",
    "\n",
    "print(f\"ERROR ABSOLUTO MEDIO (MAE):   {mae:,.5f}\")"
   ]
  },
  {
   "cell_type": "code",
   "execution_count": 44,
   "metadata": {},
   "outputs": [
    {
     "name": "stdout",
     "output_type": "stream",
     "text": [
      "ERROR ABSOLUTO MEDIO (MAE):       20.76607\n",
      "ERROR ABSOLUTO MEDIO (MAE):      -20.71052 (2.36788)\n"
     ]
    }
   ],
   "source": [
    "# Cross Validation Regression MAE con cross_val_score -- 100% datos\n",
    "from sklearn.model_selection import cross_val_score\n",
    "from sklearn.model_selection import KFold\n",
    "from sklearn.linear_model import LinearRegression\n",
    "\n",
    "seed = 7\n",
    "num_splits = 10\n",
    "scoring = 'neg_mean_absolute_error'\n",
    "\n",
    "kfold = KFold(n_splits = num_splits, random_state = seed, shuffle = True)\n",
    "\n",
    "model =LinearRegression()\n",
    "\n",
    "results1 = cross_val_score(model, X, Y, cv = kfold, scoring = scoring)\n",
    "\n",
    "print(f\"ERROR ABSOLUTO MEDIO (MAE):       {mae:,.5f}\")\n",
    "print(f\"ERROR ABSOLUTO MEDIO (MAE):      {results1.mean():,.5f} ({results1.std():,.5f})\")"
   ]
  },
  {
   "cell_type": "markdown",
   "metadata": {},
   "source": [
    "<div class=\"alert alert-block alert-info\">\n",
    "    \n",
    "<i class=\"fa fa-info-circle\" aria-hidden=\"true\"></i>\n",
    "Puede obtener más información en la documentación oficial de Scikit-Learn sobre la clase [`mean_absolute_error`](https://scikit-learn.org/stable/modules/generated/sklearn.metrics.mean_absolute_error.html?highlight=mean%20absolute%20error#sklearn.metrics.mean_absolute_error).\n",
    "</div>"
   ]
  },
  {
   "cell_type": "markdown",
   "metadata": {
    "ExecuteTime": {
     "end_time": "2018-11-27T18:35:24.164369Z",
     "start_time": "2018-11-27T18:35:24.138865Z"
    }
   },
   "source": [
    "<a id=\"MSE\"></a>\n",
    "## <font color=\"#004D7F\">Error cuadrático medio (MSE)</font>"
   ]
  },
  {
   "cell_type": "markdown",
   "metadata": {},
   "source": [
    "El error cuadrático medio _(MSE)_ es muy similar al error absoluto medio en el sentido de que proporciona una idea general de la magnitud del error. Tomar la raíz cuadrada del error cuadrático medio convierte las unidades de nuevo a las unidades originales de la variable de salida y puede ser significativo para la descripción y presentación. Esto se llama el error cuadrático medio de raíz _(RMSE)_. \n",
    "\n",
    "Esta métrica también se invierte para que los resultados estén aumentando. Recuerde tomar el valor absoluto antes de sacar la raíz cuadrada si está interesado en calcular el RMSE."
   ]
  },
  {
   "cell_type": "code",
   "execution_count": 46,
   "metadata": {},
   "outputs": [
    {
     "name": "stdout",
     "output_type": "stream",
     "text": [
      "ERROR ABSOLUTO MEDIO (MAE):           20.76607\n",
      "ERROR ABSOLUTO MEDIO (MAE):       -1,305.95908 (549.59293)\n",
      "ERROR CUADRÁTICO MEDIO (MSE):      1,128.89886\n"
     ]
    }
   ],
   "source": [
    "# Cross Validation Regression MSE con validación cruzada con división por porcentajes\n",
    "from sklearn.model_selection import train_test_split\n",
    "from sklearn.metrics         import mean_squared_error\n",
    "from sklearn.linear_model    import LinearRegression\n",
    "\n",
    "test_size = 0.33\n",
    "seed = 7\n",
    "\n",
    "X_train, X_test, Y_train, Y_test = train_test_split (X, Y, test_size = test_size, random_state = seed)\n",
    "\n",
    "model =LinearRegression()\n",
    "model.fit(X_train, Y_train)\n",
    "\n",
    "predicted = model.predict(X_test)\n",
    "\n",
    "mse = mean_squared_error(Y_test, predicted)\n",
    "\n",
    "print(f\"ERROR ABSOLUTO MEDIO (MAE):           {mae:,.5f}\")\n",
    "print(f\"ERROR ABSOLUTO MEDIO (MAE):       {results.mean():,.5f} ({results.std():,.5f})\")\n",
    "print(f\"ERROR CUADRÁTICO MEDIO (MSE):      {mse:,.5f}\")"
   ]
  },
  {
   "cell_type": "code",
   "execution_count": 34,
   "metadata": {},
   "outputs": [
    {
     "name": "stdout",
     "output_type": "stream",
     "text": [
      "ERROR ABSOLUTO MEDIO (MAE):           20.76607\n",
      "ERROR ABSOLUTO MEDIO (MAE):          -20.71052 (2.36788)\n",
      "ERROR CUADRÁTICO MEDIO (MSE):      1,128.89886\n",
      "ERROR CUADRÁTICO MEDIO (MSE):     -1,305.95908 (549.59293)\n"
     ]
    }
   ],
   "source": [
    "# Cross Validation Regression MSE con cross_val_score -- 100% datos\n",
    "from sklearn.model_selection import cross_val_score\n",
    "from sklearn.model_selection import KFold\n",
    "from sklearn.linear_model    import LinearRegression\n",
    "\n",
    "\n",
    "seed = 7\n",
    "num_splits = 10\n",
    "scoring = 'neg_mean_squared_error'\n",
    "\n",
    "kfold = KFold(n_splits = num_splits, random_state = seed, shuffle = True)\n",
    "\n",
    "model =LinearRegression()\n",
    "\n",
    "results2 = cross_val_score(model, X, Y, cv = kfold, scoring = scoring)\n",
    "\n",
    "print(f\"ERROR ABSOLUTO MEDIO (MAE):           {mae:,.5f}\")\n",
    "print(f\"ERROR ABSOLUTO MEDIO (MAE):          {results1.mean():,.5f} ({results1.std():,.5f})\")\n",
    "print(f\"ERROR CUADRÁTICO MEDIO (MSE):      {mse:,.5f}\")\n",
    "print(f\"ERROR CUADRÁTICO MEDIO (MSE):     {results2.mean():,.5f} ({results2.std():,.5f})\")"
   ]
  },
  {
   "cell_type": "markdown",
   "metadata": {},
   "source": [
    "<div class=\"alert alert-block alert-info\">\n",
    "    \n",
    "<i class=\"fa fa-info-circle\" aria-hidden=\"true\"></i>\n",
    "Puede obtener más información en la documentación oficial de Scikit-Learn sobre la clase [`mean_squared_error`](https://scikit-learn.org/stable/modules/generated/sklearn.metrics.mean_squared_error.html?highlight=mean%20squared%20error#sklearn.metrics.mean_squared_error).\n",
    "</div>"
   ]
  },
  {
   "cell_type": "markdown",
   "metadata": {
    "ExecuteTime": {
     "end_time": "2018-11-27T18:35:24.164369Z",
     "start_time": "2018-11-27T18:35:24.138865Z"
    }
   },
   "source": [
    "<a id=\"R2\"></a>\n",
    "## <font color=\"#004D7F\">$R^2$</font>"
   ]
  },
  {
   "cell_type": "markdown",
   "metadata": {},
   "source": [
    "La métrica $R^2$ proporciona una indicación del ajuste de un conjunto de predicciones a los valores reales. En la literatura estadística, esta medida se llama coeficiente de determinación. Este es un valor entre 0 (si no tiene ajuste) y 1 (ajuste perfecto). \n",
    "\n",
    "Puede ver que las predicciones se ajustan mal a los valores reales con un valor más cercano a cero y menor que 0.5."
   ]
  },
  {
   "cell_type": "code",
   "execution_count": 47,
   "metadata": {},
   "outputs": [
    {
     "name": "stdout",
     "output_type": "stream",
     "text": [
      "ERROR ABSOLUTO MEDIO (MAE):           20.76607\n",
      "ERROR ABSOLUTO MEDIO (MAE):          -20.71052 (2.36788)\n",
      "ERROR CUADRÁTICO MEDIO (MSE):      1,128.89886\n",
      "ERROR CUADRÁTICO MEDIO (MSE):     -1,305.95908 (549.59293)\n",
      "R2:                                    0.99780\n"
     ]
    }
   ],
   "source": [
    "# Cross Validation Regression R2 con validación cruzada con división por porcentajes\n",
    "from sklearn.model_selection import train_test_split\n",
    "from sklearn.metrics         import r2_score\n",
    "from sklearn.linear_model    import LinearRegression\n",
    "\n",
    "test_size = 0.33\n",
    "seed = 7\n",
    "\n",
    "X_train, X_test, Y_train, Y_test = train_test_split (X, Y, test_size = test_size, random_state = seed)\n",
    "\n",
    "model =LinearRegression()\n",
    "model.fit(X_train, Y_train)\n",
    "\n",
    "predicted = model.predict(X_test)\n",
    "\n",
    "r2 = r2_score(Y_test, predicted)\n",
    "\n",
    "print(f\"ERROR ABSOLUTO MEDIO (MAE):           {mae:,.5f}\")\n",
    "print(f\"ERROR ABSOLUTO MEDIO (MAE):          {results1.mean():,.5f} ({results1.std():,.5f})\")\n",
    "print(f\"ERROR CUADRÁTICO MEDIO (MSE):      {mse:,.5f}\")\n",
    "print(f\"ERROR CUADRÁTICO MEDIO (MSE):     {results2.mean():,.5f} ({results2.std():,.5f})\")\n",
    "print(f\"R2:                                    {r2:,.5f}\")"
   ]
  },
  {
   "cell_type": "code",
   "execution_count": 48,
   "metadata": {},
   "outputs": [
    {
     "name": "stdout",
     "output_type": "stream",
     "text": [
      "ERROR ABSOLUTO MEDIO (MAE):           20.76607\n",
      "ERROR ABSOLUTO MEDIO (MAE):          -20.71052 (2.36788)\n",
      "ERROR CUADRÁTICO MEDIO (MSE):      1,128.89886\n",
      "ERROR CUADRÁTICO MEDIO (MSE):     -1,305.95908 (549.59293)\n",
      "R2:                                    0.99780\n",
      "R2:                                    0.99712 (0.00126)\n"
     ]
    }
   ],
   "source": [
    "# Cross Validation Regression R2 con cross_val_score -- 100% datos\n",
    "from sklearn.model_selection import cross_val_score\n",
    "from sklearn.model_selection import KFold\n",
    "from sklearn.linear_model    import LinearRegression\n",
    "\n",
    "seed = 7\n",
    "num_splits = 10\n",
    "scoring = 'r2'\n",
    "\n",
    "kfold = KFold(n_splits = num_splits, random_state = seed, shuffle = True)\n",
    "\n",
    "model =LinearRegression()\n",
    "\n",
    "results3 = cross_val_score(model, X, Y, cv = kfold, scoring = scoring)\n",
    "\n",
    "print(f\"ERROR ABSOLUTO MEDIO (MAE):           {mae:,.5f}\")\n",
    "print(f\"ERROR ABSOLUTO MEDIO (MAE):          {results1.mean():,.5f} ({results1.std():,.5f})\")\n",
    "print(f\"ERROR CUADRÁTICO MEDIO (MSE):      {mse:,.5f}\")\n",
    "print(f\"ERROR CUADRÁTICO MEDIO (MSE):     {results2.mean():,.5f} ({results2.std():,.5f})\")\n",
    "print(f\"R2:                                    {r2:,.5f}\")\n",
    "print(f\"R2:                                    {results3.mean():,.5f} ({results3.std():,.5f})\")"
   ]
  },
  {
   "cell_type": "markdown",
   "metadata": {},
   "source": [
    "<div class=\"alert alert-block alert-info\">\n",
    "    \n",
    "<i class=\"fa fa-info-circle\" aria-hidden=\"true\"></i>\n",
    "Puede obtener más información en la documentación oficial de Scikit-Learn sobre la clase [r2_score`](https://scikit-learn.org/stable/modules/generated/sklearn.metrics.r2_score.html?highlight=r2#sklearn.metrics.r2_score).\n",
    "</div>"
   ]
  },
  {
   "cell_type": "markdown",
   "metadata": {},
   "source": [
    "<div style=\"text-align: right\"> <font size=5>\n",
    "    <a href=\"#indice\"><i class=\"fa fa-arrow-circle-up\" aria-hidden=\"true\" style=\"color:#004D7F\"></i></a>\n",
    "</font></div>\n",
    "\n",
    "---\n",
    "\n",
    "<div style=\"text-align: right\"> <font size=6><i class=\"fa fa-coffee\" aria-hidden=\"true\" style=\"color:#004D7F\"></i> </font></div>"
   ]
  }
 ],
 "metadata": {
  "kernelspec": {
   "display_name": "Python 3 (ipykernel)",
   "language": "python",
   "name": "python3"
  },
  "language_info": {
   "codemirror_mode": {
    "name": "ipython",
    "version": 3
   },
   "file_extension": ".py",
   "mimetype": "text/x-python",
   "name": "python",
   "nbconvert_exporter": "python",
   "pygments_lexer": "ipython3",
   "version": "3.9.12"
  },
  "toc": {
   "base_numbering": 1,
   "nav_menu": {},
   "number_sections": false,
   "sideBar": true,
   "skip_h1_title": true,
   "title_cell": "Table of Contents",
   "title_sidebar": "Contents",
   "toc_cell": false,
   "toc_position": {},
   "toc_section_display": true,
   "toc_window_display": false
  }
 },
 "nbformat": 4,
 "nbformat_minor": 2
}
